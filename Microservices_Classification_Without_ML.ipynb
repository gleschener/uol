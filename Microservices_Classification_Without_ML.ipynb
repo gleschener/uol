{
 "cells": [
  {
   "cell_type": "markdown",
   "metadata": {},
   "source": [
    "# Display Microservice repo contents"
   ]
  },
  {
   "cell_type": "code",
   "execution_count": 97,
   "metadata": {},
   "outputs": [
    {
     "name": "stdout",
     "output_type": "stream",
     "text": [
      "['*\\\\n *  or in the \"license\" file accompanying this file. This file is distributed on an \"AS IS\" BASIS, WITHOUT WARRANTIES *\\\\{\\'iot-device-simulator\\': {\\'desc\\': \\'The IoT Device Simulator solution is a Graphical User Interface (GUI) based engine designed to enable customers to get started quickly assessing AWS IoT services without an existing pool of devices. The IoT Device Simulator helps effortlessly create and simulate thousands of connected devices that are defined by the customer.\\', \\'app.js\\': \\'/*********************************************************************************************************************\\\\n *  Copyright 2016 Amazon.com, Inc. or its affiliates. All Rights Reserved.                                           *\\\\n *                                                                                                                    *\\\\n *  Licensed under the Amazon Software License (the \"License\"). You may not use this file except in compliance        *\\\\n *  with the License. A copy of the License is located at                                                             *\\\\n *                                                                                                                    *\\\\n *      http://aws.amazon.com/asl/                                                                                    *\\\\n *                     n *  OR CONDITIONS OF ANY KIND, express or implied. See the License for the specific language governing permissions    *\\\\n *  and limitations under the License.                                                                                *\\\\n *********************************************************************************************************************/\\\\n\\\\n/**\\\\n * @author Solution Builders\\\\n */\\\\n\\\\n\\\\\\'use strict\\\\\\';\\\\n\\\\nconst fs = require(\\\\\\'fs\\\\\\');\\\\nconst path = require(\\\\\\'path\\\\\\');\\\\nconst args = require(\\\\\\'minimist\\\\\\')(process.argv.slice(2));\\\\n\\\\nlet getFileList = function(path) {\\\\n    let fileInfo;\\\\n    let filesFound;\\\\n    let fileList = [];\\\\n\\\\n    filesFound = fs.readdirSync(path);\\\\n    for (let i = 0; i < filesFound.length; i++) {\\\\n        fileInfo = fs.lstatSync([path, filesFound[i]].join(\\\\\\'/\\\\\\'));\\\\n        if (fileInfo.isFile()) {\\\\n            fileList.push(filesFound[i]);\\\\n        }\\\\n\\\\n        if (fileInfo.isDirectory()) {\\\\n            console.log([path, filesFound[i]].join(\\\\\\'/\\\\\\'));\\\\n        }\\\\n    }\\\\n\\\\n    return fileList;\\\\n};\\\\n\\\\n// List all files in a directory in Node.js recursively in a synchronous fashion\\\\nlet walkSync = function(dir, filelist) {\\\\n    // let filelist = []; //getFileList(\\\\\\'./temp/site\\\\\\');\\\\n    let files = fs.readdirSync(dir);\\\\n    filelist = filelist || [];\\\\n    files.forEach(function(file) {\\\\n        if \\n', '\\n', \"'a',\\n\", \" 'about',\\n\", \" 'above',\\n\", \" 'after',\\n\", \" 'again',\\n\", \" 'against',\\n\", \" 'ain',\\n\", \" 'all',\\n\", \" 'am',\\n\", \" 'an',\\n\", \" 'and',\\n\", \" 'any',\\n\", \" 'are',\\n\", \" 'aren',\\n\", ' \"aren\\'t\",\\n', \" 'as',\\n\", \" 'at',\\n\", \" 'be',\\n\", \" 'because',\\n\", \" 'been',\\n\", \" 'before',\\n\", \" 'being',\\n\", \" 'below',\\n\", \" 'between',\\n\", \" 'both',\\n\", \" 'but',\\n\", \" 'by',\\n\", \" 'can',\\n\", \" 'couldn',\\n\", ' \"couldn\\'t\",\\n', \" 'd',\\n\", \" 'did',\\n\", \" 'didn',\\n\", ' \"didn\\'t\",\\n', \" 'do',\\n\", \" 'does',\\n\", \" 'doesn',\\n\", ' \"doesn\\'t\",\\n', \" 'doing',\\n\", \" 'don',\\n\", ' \"don\\'t\",\\n', \" 'down',\\n\", \" 'during',\\n\", \" 'each',\\n\", \" 'few',\\n\", \" 'for',\\n\", \" 'from',\\n\", \" 'further',\\n\", \" 'had',\\n\", \" 'hadn',\\n\", ' \"hadn\\'t\",\\n', \" 'has',\\n\", \" 'hasn',\\n\", ' \"hasn\\'t\",\\n', \" 'have',\\n\", \" 'haven',\\n\", ' \"haven\\'t\",\\n', \" 'having',\\n\", \" 'he',\\n\", \" 'her',\\n\", \" 'here',\\n\", \" 'hers',\\n\", \" 'herself',\\n\", \" 'him',\\n\", \" 'himself',\\n\", \" 'his',\\n\", \" 'how',\\n\", \" 'i',\\n\", \" 'if',\\n\", \" 'in',\\n\", \" 'into',\\n\", \" 'is',\\n\", \" 'isn',\\n\", ' \"isn\\'t\",\\n', \" 'it',\\n\", ' \"it\\'s\",\\n', \" 'its',\\n\", \" 'itself',\\n\", \" 'just',\\n\", \" 'll',\\n\", \" 'm',\\n\", \" 'ma',\\n\", \" 'me',\\n\", \" 'mightn',\\n\", ' \"mightn\\'t\",\\n', \" 'more',\\n\", \" 'most',\\n\", \" 'mustn',\\n\", ' \"mustn\\'t\",\\n', \" 'my',\\n\", \" 'myself',\\n\", \" 'needn',\\n\", ' \"needn\\'t\",\\n', \" 'no',\\n\", \" 'nor',\\n\", \" 'not',\\n\", \" 'now',\\n\", \" 'o',\\n\", \" 'of',\\n\", \" 'off',\\n\", \" 'on',\\n\", \" 'once',\\n\", \" 'only',\\n\", \" 'or',\\n\", \" 'other',\\n\", \" 'our',\\n\", \" 'ours',\\n\", \" 'ourselves',\\n\", \" 'out',\\n\", \" 'over',\\n\", \" 'own',\\n\", \" 're',\\n\", \" 's',\\n\", \" 'same',\\n\", \" 'shan',\\n\", ' \"shan\\'t\",\\n', \" 'she',\\n\", ' \"she\\'s\",\\n', \" 'should',\\n\", ' \"should\\'ve\",\\n', \" 'shouldn',\\n\", ' \"shouldn\\'t\",\\n', \" 'so',\\n\", \" 'some',\\n\", \" 'such',\\n\", \" 't',\\n\", \" 'than',\\n\", \" 'that',\\n\", ' \"that\\'ll\",\\n', \" 'the',\\n\", \" 'their',\\n\", \" 'theirs',\\n\", \" 'them',\\n\", \" 'themselves',\\n\", \" 'then',\\n\", \" 'there',\\n\", \" 'these',\\n\", \" 'they',\\n\", \" 'this',\\n\", \" 'those',\\n\", \" 'through',\\n\", \" 'to',\\n\", \" 'too',\\n\", \" 'under',\\n\", \" 'until',\\n\", \" 'up',\\n\", \" 've',\\n\", \" 'very',\\n\", \" 'was',\\n\", \" 'wasn',\\n\", ' \"wasn\\'t\",\\n', \" 'we',\\n\", \" 'were',\\n\", \" 'weren',\\n\", ' \"weren\\'t\",\\n', \" 'what',\\n\", \" 'when',\\n\", \" 'where',\\n\", \" 'which',\\n\", \" 'while',\\n\", \" 'who',\\n\", \" 'whom',\\n\", \" 'why',\\n\", \" 'will',\\n\", \" 'with',\\n\", \" 'won',\\n\", ' \"won\\'t\",\\n', \" 'wouldn',\\n\", ' \"wouldn\\'t\",\\n', \" 'y',\\n\", \" 'you',\\n\", ' \"you\\'d\",\\n', ' \"you\\'ll\",\\n', ' \"you\\'re\",\\n', ' \"you\\'ve\",\\n', \" 'your',\\n\", \" 'yours',\\n\", \" 'yourself',\\n\", \" 'yourselves'}\"]\n"
     ]
    }
   ],
   "source": [
    "path = \"/Users/gleschen/Downloads/test_raw_file.txt\"\n",
    "file=open(path,'r')\n",
    "print(file.readlines())"
   ]
  },
  {
   "cell_type": "markdown",
   "metadata": {},
   "source": [
    "# Data cleaning"
   ]
  },
  {
   "cell_type": "code",
   "execution_count": 98,
   "metadata": {},
   "outputs": [
    {
     "name": "stdout",
     "output_type": "stream",
     "text": [
      "    n  orinthe  license  fileaccompanyingthisfile  Thisfileisdistributedonan  ASIS  BASIS  WITHOUTWARRANTIES        iot  device  simulator        desc      TheIoTDeviceSimulatorsolutionisaGraphicalUserInterface  GUI  basedenginedesignedtoenablecustomerstogetstartedquicklyassessingAWSIoTserviceswithoutanexistingpoolofdevices  TheIoTDeviceSimulatorhelpseffortlesslycreateandsimulatethousandsofconnecteddevicesthataredefinedbythecustomer        app  js                                                                                                                                                                                                                                                    n  Copyright        Amazon  com  Inc  oritsaffiliates  AllRightsReserved      n      n  LicensedundertheAmazonSoftwareLicense  the  License      Youmaynotusethisfileexceptincompliance    n  withtheLicense  AcopyoftheLicenseislocatedat    n      n  http      aws  amazon  com  asl      n  n  ORCONDITIONSOFANYKIND  expressorimplied  SeetheLicenseforthespecificlanguagegoverningpermissions    n  andlimitationsundertheLicense      n                                                                                                                                                                                                                                              n  n        n    authorSolutionBuilders  n      n  n    usestrict        n  nconstfs  require      fs          nconstpath  require      path          nconstargs  require      minimist        process  argv  slice            n  nletgetFileList  function  path      nletfileInfo    nletfilesFound    nletfileList          n  nfilesFound  fs  readdirSync  path      nfor  leti      i  filesFound  length  i          nfileInfo  fs  lstatSync    path  filesFound  i      join                    nif  fileInfo  isFile          nfileList  push  filesFound  i        n    n  nif  fileInfo  isDirectory          nconsole  log    path  filesFound  i      join                    n    n    n  nreturnfileList    n      n  n    ListallfilesinadirectoryinNode  jsrecursivelyinasynchronousfashion  nletwalkSync  function  dir  filelist      n    letfilelist            getFileList          temp  site          nletfiles  fs  readdirSync  dir      nfilelist  filelist            nfiles  forEach  function  file      nif  a      about      above      after      again      against      ain      all      am      an      and      any      are      aren      aren  t      as      at      be      because      been      before      being      below      between      both      but      by      can      couldn      couldn  t      d      did      didn      didn  t      do      does      doesn      doesn  t      doing      don      don  t      down      during      each      few      for      from      further      had      hadn      hadn  t      has      hasn      hasn  t      have      haven      haven  t      having      he      her      here      hers      herself      him      himself      his      how      i      if      in      into      is      isn      isn  t      it      it  s      its      itself      just      ll      m      ma      me      mightn      mightn  t      more      most      mustn      mustn  t      my      myself      needn      needn  t      no      nor      not      now      o      of      off      on      once      only      or      other      our      ours      ourselves      out      over      own      re      s      same      shan      shan  t      she      she  s      should      should  ve      shouldn      shouldn  t      so      some      such      t      than      that      that  ll      the      their      theirs      them      themselves      then      there      these      they      this      those      through      to      too      under      until      up      ve      very      was      wasn      wasn  t      we      were      weren      weren  t      what      when      where      which      while      who      whom      why      will      with      won      won  t      wouldn      wouldn  t      y      you      you  d      you  ll      you  re      you  ve      your      yours      yourself      yourselves    \n"
     ]
    }
   ],
   "source": [
    "path = \"/Users/gleschen/Downloads/test_raw_file.txt\"\n",
    "file=open(path,'r')\n",
    "lines=file.readlines()\n",
    "cummulateString=''\n",
    "for line in lines:\n",
    "#print(newLine)\n",
    "    for char in line:\n",
    "# Exclude the non alphabitical data.\n",
    "        if(char.isalpha()):\n",
    "            cummulateString+=char\n",
    "        elif(char.isspace()):\n",
    "            cummulateString+=''\n",
    "        elif(char.isupper()):\n",
    "            char=char.lower()\n",
    "            cummulateString+=char\n",
    "        else:\n",
    "            cummulateString+=' '\n",
    "            cummulateString+=' '\n",
    "print(cummulateString)\n",
    "#file.close()\n",
    "cummulateString+=' '"
   ]
  },
  {
   "cell_type": "code",
   "execution_count": 99,
   "metadata": {},
   "outputs": [
    {
     "data": {
      "text/plain": [
       "{'a',\n",
       " 'about',\n",
       " 'above',\n",
       " 'after',\n",
       " 'again',\n",
       " 'against',\n",
       " 'ain',\n",
       " 'all',\n",
       " 'am',\n",
       " 'an',\n",
       " 'and',\n",
       " 'any',\n",
       " 'are',\n",
       " 'aren',\n",
       " \"aren't\",\n",
       " 'as',\n",
       " 'at',\n",
       " 'be',\n",
       " 'because',\n",
       " 'been',\n",
       " 'before',\n",
       " 'being',\n",
       " 'below',\n",
       " 'between',\n",
       " 'both',\n",
       " 'but',\n",
       " 'by',\n",
       " 'can',\n",
       " 'couldn',\n",
       " \"couldn't\",\n",
       " 'd',\n",
       " 'did',\n",
       " 'didn',\n",
       " \"didn't\",\n",
       " 'do',\n",
       " 'does',\n",
       " 'doesn',\n",
       " \"doesn't\",\n",
       " 'doing',\n",
       " 'don',\n",
       " \"don't\",\n",
       " 'down',\n",
       " 'during',\n",
       " 'each',\n",
       " 'few',\n",
       " 'for',\n",
       " 'from',\n",
       " 'further',\n",
       " 'had',\n",
       " 'hadn',\n",
       " \"hadn't\",\n",
       " 'has',\n",
       " 'hasn',\n",
       " \"hasn't\",\n",
       " 'have',\n",
       " 'haven',\n",
       " \"haven't\",\n",
       " 'having',\n",
       " 'he',\n",
       " 'her',\n",
       " 'here',\n",
       " 'hers',\n",
       " 'herself',\n",
       " 'him',\n",
       " 'himself',\n",
       " 'his',\n",
       " 'how',\n",
       " 'i',\n",
       " 'if',\n",
       " 'in',\n",
       " 'into',\n",
       " 'is',\n",
       " 'isn',\n",
       " \"isn't\",\n",
       " 'it',\n",
       " \"it's\",\n",
       " 'its',\n",
       " 'itself',\n",
       " 'just',\n",
       " 'll',\n",
       " 'm',\n",
       " 'ma',\n",
       " 'me',\n",
       " 'mightn',\n",
       " \"mightn't\",\n",
       " 'more',\n",
       " 'most',\n",
       " 'mustn',\n",
       " \"mustn't\",\n",
       " 'my',\n",
       " 'myself',\n",
       " 'needn',\n",
       " \"needn't\",\n",
       " 'no',\n",
       " 'nor',\n",
       " 'not',\n",
       " 'now',\n",
       " 'o',\n",
       " 'of',\n",
       " 'off',\n",
       " 'on',\n",
       " 'once',\n",
       " 'only',\n",
       " 'or',\n",
       " 'other',\n",
       " 'our',\n",
       " 'ours',\n",
       " 'ourselves',\n",
       " 'out',\n",
       " 'over',\n",
       " 'own',\n",
       " 're',\n",
       " 's',\n",
       " 'same',\n",
       " 'shan',\n",
       " \"shan't\",\n",
       " 'she',\n",
       " \"she's\",\n",
       " 'should',\n",
       " \"should've\",\n",
       " 'shouldn',\n",
       " \"shouldn't\",\n",
       " 'so',\n",
       " 'some',\n",
       " 'such',\n",
       " 't',\n",
       " 'than',\n",
       " 'that',\n",
       " \"that'll\",\n",
       " 'the',\n",
       " 'their',\n",
       " 'theirs',\n",
       " 'them',\n",
       " 'themselves',\n",
       " 'then',\n",
       " 'there',\n",
       " 'these',\n",
       " 'they',\n",
       " 'this',\n",
       " 'those',\n",
       " 'through',\n",
       " 'to',\n",
       " 'too',\n",
       " 'under',\n",
       " 'until',\n",
       " 'up',\n",
       " 've',\n",
       " 'very',\n",
       " 'was',\n",
       " 'wasn',\n",
       " \"wasn't\",\n",
       " 'we',\n",
       " 'were',\n",
       " 'weren',\n",
       " \"weren't\",\n",
       " 'what',\n",
       " 'when',\n",
       " 'where',\n",
       " 'which',\n",
       " 'while',\n",
       " 'who',\n",
       " 'whom',\n",
       " 'why',\n",
       " 'will',\n",
       " 'with',\n",
       " 'won',\n",
       " \"won't\",\n",
       " 'wouldn',\n",
       " \"wouldn't\",\n",
       " 'y',\n",
       " 'you',\n",
       " \"you'd\",\n",
       " \"you'll\",\n",
       " \"you're\",\n",
       " \"you've\",\n",
       " 'your',\n",
       " 'yours',\n",
       " 'yourself',\n",
       " 'yourselves'}"
      ]
     },
     "execution_count": 99,
     "metadata": {},
     "output_type": "execute_result"
    }
   ],
   "source": [
    "#import nltk\n",
    "#nltk.download('punkt')\n",
    "from nltk.corpus import stopwords\n",
    "from nltk.tokenize import word_tokenize \n",
    "set(stopwords.words('english'))"
   ]
  },
  {
   "cell_type": "code",
   "execution_count": 182,
   "metadata": {
    "scrolled": true
   },
   "outputs": [
    {
     "name": "stdout",
     "output_type": "stream",
     "text": [
      "['n', 'orinthe', 'license', 'fileaccompanyingthisfile', 'Thisfileisdistributedonan', 'ASIS', 'BASIS', 'WITHOUTWARRANTIES', 'iot', 'device', 'simulator', 'desc', 'TheIoTDeviceSimulatorsolutionisaGraphicalUserInterface', 'GUI', 'basedenginedesignedtoenablecustomerstogetstartedquicklyassessingAWSIoTserviceswithoutanexistingpoolofdevices', 'TheIoTDeviceSimulatorhelpseffortlesslycreateandsimulatethousandsofconnecteddevicesthataredefinedbythecustomer', 'app', 'js', 'n', 'Copyright', 'Amazon', 'com', 'Inc', 'oritsaffiliates', 'AllRightsReserved', 'n', 'n', 'LicensedundertheAmazonSoftwareLicense', 'the', 'License', 'Youmaynotusethisfileexceptincompliance', 'n', 'withtheLicense', 'AcopyoftheLicenseislocatedat', 'n', 'n', 'http', 'aws', 'amazon', 'com', 'asl', 'n', 'n', 'ORCONDITIONSOFANYKIND', 'expressorimplied', 'SeetheLicenseforthespecificlanguagegoverningpermissions', 'n', 'andlimitationsundertheLicense', 'n', 'n', 'n', 'n', 'authorSolutionBuilders', 'n', 'n', 'n', 'usestrict', 'n', 'nconstfs', 'require', 'fs', 'nconstpath', 'require', 'path', 'nconstargs', 'require', 'minimist', 'process', 'argv', 'slice', 'n', 'nletgetFileList', 'function', 'path', 'nletfileInfo', 'nletfilesFound', 'nletfileList', 'n', 'nfilesFound', 'fs', 'readdirSync', 'path', 'nfor', 'leti', 'i', 'filesFound', 'length', 'i', 'nfileInfo', 'fs', 'lstatSync', 'path', 'filesFound', 'i', 'join', 'nif', 'fileInfo', 'isFile', 'nfileList', 'push', 'filesFound', 'i', 'n', 'n', 'nif', 'fileInfo', 'isDirectory', 'nconsole', 'log', 'path', 'filesFound', 'i', 'join', 'n', 'n', 'n', 'nreturnfileList', 'n', 'n', 'n', 'ListallfilesinadirectoryinNode', 'jsrecursivelyinasynchronousfashion', 'nletwalkSync', 'function', 'dir', 'filelist', 'n', 'letfilelist', 'getFileList', 'temp', 'site', 'nletfiles', 'fs', 'readdirSync', 'dir', 'nfilelist', 'filelist', 'nfiles', 'forEach', 'function', 'file', 'nif', 'a', 'about', 'above', 'after', 'again', 'against', 'ain', 'all', 'am', 'an', 'and', 'any', 'are', 'aren', 'aren', 't', 'as', 'at', 'be', 'because', 'been', 'before', 'being', 'below', 'between', 'both', 'but', 'by', 'can', 'couldn', 'couldn', 't', 'd', 'did', 'didn', 'didn', 't', 'do', 'does', 'doesn', 'doesn', 't', 'doing', 'don', 'don', 't', 'down', 'during', 'each', 'few', 'for', 'from', 'further', 'had', 'hadn', 'hadn', 't', 'has', 'hasn', 'hasn', 't', 'have', 'haven', 'haven', 't', 'having', 'he', 'her', 'here', 'hers', 'herself', 'him', 'himself', 'his', 'how', 'i', 'if', 'in', 'into', 'is', 'isn', 'isn', 't', 'it', 'it', 's', 'its', 'itself', 'just', 'll', 'm', 'ma', 'me', 'mightn', 'mightn', 't', 'more', 'most', 'mustn', 'mustn', 't', 'my', 'myself', 'needn', 'needn', 't', 'no', 'nor', 'not', 'now', 'o', 'of', 'off', 'on', 'once', 'only', 'or', 'other', 'our', 'ours', 'ourselves', 'out', 'over', 'own', 're', 's', 'same', 'shan', 'shan', 't', 'she', 'she', 's', 'should', 'should', 've', 'shouldn', 'shouldn', 't', 'so', 'some', 'such', 't', 'than', 'that', 'that', 'll', 'the', 'their', 'theirs', 'them', 'themselves', 'then', 'there', 'these', 'they', 'this', 'those', 'through', 'to', 'too', 'under', 'until', 'up', 've', 'very', 'was', 'wasn', 'wasn', 't', 'we', 'were', 'weren', 'weren', 't', 'what', 'when', 'where', 'which', 'while', 'who', 'whom', 'why', 'will', 'with', 'won', 'won', 't', 'wouldn', 'wouldn', 't', 'y', 'you', 'you', 'd', 'you', 'll', 'you', 're', 'you', 've', 'your', 'yours', 'yourself', 'yourselves']\n",
      "['n', 'orinthe', 'license', 'fileaccompanyingthisfile', 'Thisfileisdistributedonan', 'ASIS', 'BASIS', 'WITHOUTWARRANTIES', 'iot', 'device', 'simulator', 'desc', 'TheIoTDeviceSimulatorsolutionisaGraphicalUserInterface', 'GUI', 'basedenginedesignedtoenablecustomerstogetstartedquicklyassessingAWSIoTserviceswithoutanexistingpoolofdevices', 'TheIoTDeviceSimulatorhelpseffortlesslycreateandsimulatethousandsofconnecteddevicesthataredefinedbythecustomer', 'app', 'js', 'n', 'Copyright', 'Amazon', 'com', 'Inc', 'oritsaffiliates', 'AllRightsReserved', 'n', 'n', 'LicensedundertheAmazonSoftwareLicense', 'License', 'Youmaynotusethisfileexceptincompliance', 'n', 'withtheLicense', 'AcopyoftheLicenseislocatedat', 'n', 'n', 'http', 'aws', 'amazon', 'com', 'asl', 'n', 'n', 'ORCONDITIONSOFANYKIND', 'expressorimplied', 'SeetheLicenseforthespecificlanguagegoverningpermissions', 'n', 'andlimitationsundertheLicense', 'n', 'n', 'n', 'n', 'authorSolutionBuilders', 'n', 'n', 'n', 'usestrict', 'n', 'nconstfs', 'require', 'fs', 'nconstpath', 'require', 'path', 'nconstargs', 'require', 'minimist', 'process', 'argv', 'slice', 'n', 'nletgetFileList', 'function', 'path', 'nletfileInfo', 'nletfilesFound', 'nletfileList', 'n', 'nfilesFound', 'fs', 'readdirSync', 'path', 'nfor', 'leti', 'filesFound', 'length', 'nfileInfo', 'fs', 'lstatSync', 'path', 'filesFound', 'join', 'nif', 'fileInfo', 'isFile', 'nfileList', 'push', 'filesFound', 'n', 'n', 'nif', 'fileInfo', 'isDirectory', 'nconsole', 'log', 'path', 'filesFound', 'join', 'n', 'n', 'n', 'nreturnfileList', 'n', 'n', 'n', 'ListallfilesinadirectoryinNode', 'jsrecursivelyinasynchronousfashion', 'nletwalkSync', 'function', 'dir', 'filelist', 'n', 'letfilelist', 'getFileList', 'temp', 'site', 'nletfiles', 'fs', 'readdirSync', 'dir', 'nfilelist', 'filelist', 'nfiles', 'forEach', 'function', 'file', 'nif']\n"
     ]
    }
   ],
   "source": [
    "import sys\n",
    "'''\n",
    "def remove_stopwords(cummulateString):\n",
    "        processed_word_list = []\n",
    "        for word in cummulateString:\n",
    "            word = word.lower() # in case they aren't all lower case\n",
    "            if word not in stopwords.words(\"english\"):\n",
    "                processed_word_list.append(word)\n",
    "        print (cummulateString)\n",
    "        return processed_word_list\n",
    "'''\n",
    "#example_sent = \"This is a sample sentence, showing off the stop words filtration.\"\n",
    "  \n",
    "stop_words = set(stopwords.words('english')) \n",
    "word_tokens = word_tokenize(cummulateString)  \n",
    "filtered_sentence = [w for w in word_tokens if not w in stop_words]  \n",
    "filtered_sentence = [] \n",
    "for w in word_tokens: \n",
    "    if w not in stop_words: \n",
    "        filtered_sentence.append(w) \n",
    "print(word_tokens) \n",
    "print(filtered_sentence) \n",
    "with open('cleaned_data.txt', 'w') as f:\n",
    "    print(filtered_sentence, file=f)  \n",
    "file.close()"
   ]
  },
  {
   "cell_type": "markdown",
   "metadata": {},
   "source": [
    "# Searching Contents for Keywords"
   ]
  },
  {
   "cell_type": "code",
   "execution_count": null,
   "metadata": {
    "scrolled": true
   },
   "outputs": [],
   "source": [
    "'''\n",
    "import mmap\n",
    "with open('cleaned_data.txt') as f:\n",
    "    s = mmap.mmap(f.fileno(), 0, access=mmap.ACCESS_READ)\n",
    "    if s.find(b'IoT'or b'device' or b'automotive' or b'vehicle' or b'car') != -1:\n",
    "        print(\"Microservice is classified as: Automotive\")\n",
    "'''"
   ]
  },
  {
   "cell_type": "code",
   "execution_count": 183,
   "metadata": {},
   "outputs": [
    {
     "name": "stdout",
     "output_type": "stream",
     "text": [
      "    Banking Automotive    Media  Fintech  Transportation  Law Food&Beverages  \\\n",
      "0      bank        iot  netflix  fintech  transportation  law       beverage   \n",
      "1  mortgage     device       no       no              no   no             no   \n",
      "\n",
      "  Healthcare Education   Real Estate  Insurance       Energy  Retail  \n",
      "0     health    school  construction  insurance  electricity  retail  \n",
      "1         no        no            no         no           no      no  \n"
     ]
    }
   ],
   "source": [
    "import pandas\n",
    "df = pandas.read_csv('/Users/gleschen/Downloads/dictionary.csv')\n",
    "df = df.fillna('no')\n",
    "print(df)"
   ]
  },
  {
   "cell_type": "code",
   "execution_count": 184,
   "metadata": {},
   "outputs": [
    {
     "name": "stdout",
     "output_type": "stream",
     "text": [
      "[array(['bank', 'iot', 'netflix', 'fintech', 'transportation', 'law',\n",
      "       'beverage', 'health', 'school', 'construction', 'insurance',\n",
      "       'electricity', 'retail'], dtype=object), array(['mortgage', 'device', 'no', 'no', 'no', 'no', 'no', 'no', 'no',\n",
      "       'no', 'no', 'no', 'no'], dtype=object)]\n"
     ]
    }
   ],
   "source": [
    "print(list(df.values))"
   ]
  },
  {
   "cell_type": "code",
   "execution_count": 170,
   "metadata": {
    "scrolled": true
   },
   "outputs": [
    {
     "data": {
      "text/plain": [
       "'\\nimport csv\\n#reader = csv.DictReader(open(\"file2.csv\"))\\ndf = csv.DictReader(open(\"/Users/gleschen/Downloads/dictionary.csv\"))\\nfor raw in df:\\n    orderedDict = raw\\n    #print(raw)\\n    print (raw)\\n'"
      ]
     },
     "execution_count": 170,
     "metadata": {},
     "output_type": "execute_result"
    }
   ],
   "source": [
    "'''\n",
    "import csv\n",
    "#reader = csv.DictReader(open(\"file2.csv\"))\n",
    "df = csv.DictReader(open(\"/Users/gleschen/Downloads/dictionary.csv\"))\n",
    "for raw in df:\n",
    "    orderedDict = raw\n",
    "    #print(raw)\n",
    "    print (raw)\n",
    "'''"
   ]
  },
  {
   "cell_type": "code",
   "execution_count": 185,
   "metadata": {},
   "outputs": [
    {
     "name": "stdout",
     "output_type": "stream",
     "text": [
      "odict_values(['Bank', 'iot', 'netflix', 'fintech', 'transportation', 'law', 'beverage', 'health', 'school', 'construction', 'insurance', 'electricity', 'retail'])\n"
     ]
    }
   ],
   "source": [
    "print(orderedDict.values())"
   ]
  },
  {
   "cell_type": "code",
   "execution_count": 186,
   "metadata": {},
   "outputs": [
    {
     "name": "stdout",
     "output_type": "stream",
     "text": [
      "['Bank', 'iot', 'netflix', 'fintech', 'transportation', 'law', 'beverage', 'health', 'school', 'construction', 'insurance', 'electricity', 'retail']\n",
      "127\n"
     ]
    }
   ],
   "source": [
    "import mmap\n",
    "with open('/Users/gleschen/Downloads/cleaned_data.txt') as f:\n",
    "    s = mmap.mmap(f.fileno(), 0, access=mmap.ACCESS_READ)\n",
    "    dic = orderedDict.values()\n",
    "    print(list(dic))\n",
    "    d = list(dic)\n",
    "    #if s.find(b'dic') != -1:\n",
    "    print(s.find(bytes(d[1].encode('utf-8'))))\n",
    "    #print(\"Microservice is classified as: Automotive\")\n",
    "    f.close()"
   ]
  },
  {
   "cell_type": "markdown",
   "metadata": {},
   "source": [
    "# Classification"
   ]
  },
  {
   "cell_type": "code",
   "execution_count": 195,
   "metadata": {},
   "outputs": [
    {
     "name": "stdout",
     "output_type": "stream",
     "text": [
      "This microservice is classified as: Banking\n",
      "This microservice is classified as: Banking\n",
      "This microservice is classified as: Automotive\n",
      "This microservice is classified as: Automotive\n",
      "This microservice is classified as: Media\n",
      "This microservice is classified as: Fintech\n",
      "This microservice is classified as: Transportation\n",
      "This microservice is classified as: Law\n",
      "This microservice is classified as: Food&Beverages\n",
      "This microservice is classified as: Healthcare\n",
      "This microservice is classified as: Education\n",
      "This microservice is classified as: Real Estate\n",
      "This microservice is classified as: Insurance\n",
      "This microservice is classified as: Energy\n",
      "This microservice is classified as: Retail\n"
     ]
    }
   ],
   "source": [
    "with open('/Users/gleschen/Downloads/cleaned_data.txt') as f:\n",
    "    cleanedData=f.read()\n",
    "    for col in df.columns:\n",
    "        for indx in range(0,len(df.loc[:,col])):\n",
    "          if df.loc[:,col][indx] in cleanedData:\n",
    "            #print(key.d[0])\n",
    "            #print([key for key in raw.keys()][0])\n",
    "            print(\"This microservice is classified as:\", col)\n",
    "            #print(\"true\")"
   ]
  },
  {
   "cell_type": "code",
   "execution_count": 189,
   "metadata": {},
   "outputs": [
    {
     "name": "stdout",
     "output_type": "stream",
     "text": [
      "bank\n",
      "Keyword: bank \n",
      "Occurrence: 1\n",
      "This microservice is classified as: Banking\n",
      "mortgage\n",
      "Keyword: mortgage \n",
      "Occurrence: 1\n",
      "This microservice is classified as: Banking\n",
      "iot\n",
      "Keyword: iot \n",
      "Occurrence: 1\n",
      "This microservice is classified as: Automotive\n",
      "device\n",
      "Keyword: device \n",
      "Occurrence: 1\n",
      "This microservice is classified as: Automotive\n",
      "netflix\n",
      "no\n",
      "fintech\n",
      "no\n",
      "transportation\n",
      "no\n",
      "law\n",
      "no\n",
      "beverage\n",
      "no\n",
      "health\n",
      "no\n",
      "school\n",
      "no\n",
      "construction\n",
      "no\n",
      "insurance\n",
      "no\n",
      "electricity\n",
      "no\n",
      "retail\n",
      "no\n"
     ]
    }
   ],
   "source": [
    "import ast\n",
    "countDic ={}\n",
    "from keras.preprocessing.text import Tokenizer,text_to_word_sequence\n",
    "with open('/Users/gleschen/Downloads/cleaned_data.txt') as f:\n",
    "    cleanedData=f.read()\n",
    "    for col in df.columns:\n",
    "        countDic[col]=0\n",
    "        for indx in range(0,len(df.loc[:,col])):         \n",
    "          print(df.loc[:,col][indx])\n",
    "          if df.loc[:,col][indx] in cleanedData and df.loc[:,col][indx]!='no':\n",
    "            countDic[col] +=1    \n",
    "            cleanedatalist = ast.literal_eval(cleanedData)\n",
    "            t=Tokenizer()\n",
    "            t.fit_on_texts(cleanedatalist)\n",
    "            print(\"Keyword:\", df.loc[:,col][indx], \"\\nOccurrence:\", t.word_counts[df.loc[:,col][indx]])\n",
    "            #print(text_to_word_sequence(cleanedData))\n",
    "            #print(key.d[0])\n",
    "            #print([key for key in raw.keys()][0])\n",
    "            print(\"This microservice is classified as:\", col)\n",
    "            #print(\"true\")"
   ]
  },
  {
   "cell_type": "code",
   "execution_count": 190,
   "metadata": {},
   "outputs": [
    {
     "data": {
      "text/plain": [
       "{'Banking': 2,\n",
       " 'Automotive': 2,\n",
       " 'Media': 0,\n",
       " 'Fintech': 0,\n",
       " 'Transportation': 0,\n",
       " 'Law': 0,\n",
       " 'Food&Beverages': 0,\n",
       " 'Healthcare': 0,\n",
       " 'Education': 0,\n",
       " 'Real Estate': 0,\n",
       " 'Insurance': 0,\n",
       " 'Energy': 0,\n",
       " 'Retail': 0}"
      ]
     },
     "execution_count": 190,
     "metadata": {},
     "output_type": "execute_result"
    }
   ],
   "source": [
    "countDic"
   ]
  },
  {
   "cell_type": "code",
   "execution_count": 191,
   "metadata": {},
   "outputs": [
    {
     "name": "stdout",
     "output_type": "stream",
     "text": [
      "('Banking', 2)\n",
      "Banking\n"
     ]
    }
   ],
   "source": [
    "import collections\n",
    "lblwithkeywords = countDic\n",
    "lblwithkeywords = collections.Counter(lblwithkeywords)\n",
    "d = lblwithkeywords.most_common(1)\n",
    "print (d[0])\n",
    "for key,value in d:\n",
    "    print(key)"
   ]
  },
  {
   "cell_type": "code",
   "execution_count": 192,
   "metadata": {},
   "outputs": [
    {
     "name": "stdout",
     "output_type": "stream",
     "text": [
      "This microservice is classified as: Banking\n"
     ]
    }
   ],
   "source": [
    "print(\"This microservice is classified as:\",key)"
   ]
  },
  {
   "cell_type": "code",
   "execution_count": null,
   "metadata": {},
   "outputs": [],
   "source": []
  }
 ],
 "metadata": {
  "kernelspec": {
   "display_name": "Python 3",
   "language": "python",
   "name": "python3"
  },
  "language_info": {
   "codemirror_mode": {
    "name": "ipython",
    "version": 3
   },
   "file_extension": ".py",
   "mimetype": "text/x-python",
   "name": "python",
   "nbconvert_exporter": "python",
   "pygments_lexer": "ipython3",
   "version": "3.7.3"
  }
 },
 "nbformat": 4,
 "nbformat_minor": 2
}
