{
 "cells": [
  {
   "cell_type": "code",
   "execution_count": 2,
   "metadata": {},
   "outputs": [],
   "source": [
    "from sklearn.feature_extraction.text import TfidfVectorizer\n",
    "from sklearn.cluster import KMeans\n",
    "from sklearn.metrics import adjusted_rand_score"
   ]
  },
  {
   "cell_type": "code",
   "execution_count": 11,
   "metadata": {},
   "outputs": [
    {
     "name": "stdout",
     "output_type": "stream",
     "text": [
      "Identified cluster:\n",
      "Cluster 0:\n",
      " account\n",
      " soon\n",
      " mortgage\n",
      " card\n",
      " bank\n",
      "Cluster 1:\n",
      " industry\n",
      " help\n",
      " manufacturing\n",
      " microservices\n",
      " operate\n",
      "Cluster 2:\n",
      " google\n",
      " match\n",
      " feedback\n",
      " impressed\n",
      " map\n",
      "Cluster 3:\n",
      " language\n",
      " oriented\n",
      " java\n",
      " cool\n",
      " learn\n",
      "Cluster 4:\n",
      " pass\n",
      " hospital\n",
      " appointment\n",
      " physician\n",
      " health\n"
     ]
    }
   ],
   "source": [
    "documents = [\"This is my bank I have an account and a credit card with them and will soon apply for a mortgage.\",\n",
    "             \"I have an appointment at the hospital with my physician. I need to pass by the health clinic to get my medication.\",\n",
    "             \"Next weekend I going to watch a football match. also there is a formula grand prix race on television and a boxing match.\",\n",
    "             \"The high tech industry is rapidly changing with new and more powerful computers and software being brought to the market every day.\",\n",
    "             \"Java programming language is an object oriented language which is pretty cool to learn.\",\n",
    "             \"Microservices for manufacturing industry can help build applications to operate warehouse or production.\",\n",
    "             \"Impressed with google map feedback.\",\n",
    "             \"Key promoter extension for Google Chrome.\"]\n",
    "\n",
    "vectorizer = TfidfVectorizer(stop_words='english')\n",
    "X = vectorizer.fit_transform(documents)\n",
    "\n",
    "true_k = 5\n",
    "model = KMeans(n_clusters=true_k, init='k-means++', max_iter=100, n_init=1)\n",
    "model.fit(X)\n",
    "\n",
    "print(\"Identified cluster:\")\n",
    "order_centroids = model.cluster_centers_.argsort()[:, ::-1]\n",
    "terms = vectorizer.get_feature_names()\n",
    "for i in range(true_k):\n",
    "    print(\"Cluster %d:\" % i),\n",
    "    for ind in order_centroids[i, :5]:\n",
    "        print(' %s' % terms[ind]),\n",
    "    print\n",
    "\n",
    "#print(\"\\n\")"
   ]
  },
  {
   "cell_type": "code",
   "execution_count": 12,
   "metadata": {},
   "outputs": [
    {
     "name": "stdout",
     "output_type": "stream",
     "text": [
      "Prediction\n",
      "[2]\n",
      "[4]\n"
     ]
    }
   ],
   "source": [
    "print(\"Prediction\")\n",
    "X = vectorizer.transform([\"I need to check my account balance\"])\n",
    "prediction = model.predict(X)\n",
    "print(prediction)\n",
    "Y = vectorizer.transform([\"I have a doctor appointment\"])\n",
    "prediction = model.predict(Y)\n",
    "print(prediction)\n"
   ]
  },
  {
   "cell_type": "code",
   "execution_count": null,
   "metadata": {},
   "outputs": [],
   "source": []
  }
 ],
 "metadata": {
  "kernelspec": {
   "display_name": "Python 3",
   "language": "python",
   "name": "python3"
  },
  "language_info": {
   "codemirror_mode": {
    "name": "ipython",
    "version": 3
   },
   "file_extension": ".py",
   "mimetype": "text/x-python",
   "name": "python",
   "nbconvert_exporter": "python",
   "pygments_lexer": "ipython3",
   "version": "3.7.3"
  }
 },
 "nbformat": 4,
 "nbformat_minor": 4
}
